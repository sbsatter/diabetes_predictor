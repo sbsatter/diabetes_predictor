{
 "cells": [
  {
   "cell_type": "code",
   "execution_count": 21,
   "metadata": {},
   "outputs": [],
   "source": [
    "import tensorflow as tf\n",
    "import numpy as np\n",
    "import math\n",
    "from sklearn.neighbors import KNeighborsClassifier"
   ]
  },
  {
   "cell_type": "code",
   "execution_count": 2,
   "metadata": {},
   "outputs": [],
   "source": [
    "dataset = np.genfromtxt('diabetes.csv', delimiter=',', skip_header=1)\n",
    "np.random.seed(1)\n",
    "np.random.shuffle(dataset)"
   ]
  },
  {
   "cell_type": "code",
   "execution_count": 16,
   "metadata": {},
   "outputs": [],
   "source": [
    "def normalize(x):\n",
    "    normalized_x = (x - np.mean(x, axis=0))/np.std(x, axis=0)\n",
    "    normalized_x[:, -1] = x[:, -1]\n",
    "    return normalized_x\n",
    "def next_batch(X, batch_size = 32, batch_no = 0):\n",
    "    '''\n",
    "    batch_no starts from 0\n",
    "    '''\n",
    "    if batch_no >= X.shape[0]/batch_size:\n",
    "        next_batch_ending_index = -1\n",
    "    else:\n",
    "        next_batch_ending_index = batch_size * (batch_no + 1)\n",
    "    next_batch_starting_index = batch_size * batch_no\n",
    "    return X[next_batch_starting_index:next_batch_ending_index, :]"
   ]
  },
  {
   "cell_type": "code",
   "execution_count": 17,
   "metadata": {},
   "outputs": [],
   "source": [
    "dataset = normalize(dataset)"
   ]
  },
  {
   "cell_type": "code",
   "execution_count": 15,
   "metadata": {},
   "outputs": [
    {
     "data": {
      "text/plain": [
       "(array([[ 1.23388019,  0.94221523,  0.45982725, ...,  0.1332588 ,\n",
       "          0.23476686,  1.        ],\n",
       "        [-1.14185152, -0.40356202, -0.05715025, ...,  0.95171097,\n",
       "         -0.10558415,  0.        ],\n",
       "        [ 1.23388019,  1.44296956,  1.90736425, ..., -0.92680285,\n",
       "          0.83038113,  1.        ],\n",
       "        ...,\n",
       "        [-0.84488505, -0.37226487, -0.67752325, ...,  1.09063642,\n",
       "         -0.87137393,  0.        ],\n",
       "        [-1.14185152,  0.34756947,  0.45982725, ..., -0.23821579,\n",
       "         -1.04154944,  0.        ],\n",
       "        [-0.25095213, -0.43485916, -0.36733675, ...,  0.62251803,\n",
       "         -0.87137393,  1.        ]]),\n",
       " array([[ 2.7187125 , -0.46615631,  0.04624525, ..., -0.66707265,\n",
       "          1.59617091,  0.        ],\n",
       "        [ 0.93691372, -0.59134489,  0.25303625, ..., -0.80901822,\n",
       "          1.00055664,  0.        ],\n",
       "        [ 0.04601433,  0.25367803,  0.87340925, ..., -0.72747502,\n",
       "         -0.87137393,  0.        ],\n",
       "        ...,\n",
       "        [-0.25095213, -1.24858494,  0.87340925, ..., -0.50096612,\n",
       "         -0.95646168,  0.        ],\n",
       "        [ 0.63994726,  1.03610667,  0.25303625, ...,  1.10875714,\n",
       "          0.49003012,  0.        ],\n",
       "        [-0.54791859, -0.65393918, -0.05715025, ..., -0.44660398,\n",
       "         -0.61611067,  0.        ]]))"
      ]
     },
     "execution_count": 15,
     "metadata": {},
     "output_type": "execute_result"
    }
   ],
   "source": [
    "train_size_length = math.floor(dataset.shape[0] * 0.8)\n",
    "training_data, test_data = dataset[:train_size_length, :], dataset[train_size_length:, :]\n",
    "training_data, test_data"
   ]
  },
  {
   "cell_type": "code",
   "execution_count": 19,
   "metadata": {},
   "outputs": [
    {
     "data": {
      "text/plain": [
       "array([[-0.84488505, -0.184482  ,  0.04624525,  0.59362962,  0.14066744,\n",
       "         0.33093202,  0.17252035, -0.10558415,  1.        ],\n",
       "       [ 0.63994726, -0.56004775, -0.16054575, -1.28821221, -0.69289057,\n",
       "        -0.97633621, -0.67311288, -0.36084741,  0.        ],\n",
       "       [ 0.04601433, -0.09059057,  0.04624525, -1.28821221, -0.69289057,\n",
       "         1.58743255,  1.30506485, -0.61611067,  0.        ],\n",
       "       [ 0.63994726, -0.71653347, -0.57412775,  0.7818138 ,  0.95685965,\n",
       "         0.25478047, -0.1264714 ,  0.83038113,  0.        ],\n",
       "       [-0.25095213,  0.56664949, -0.78091875, -1.28821221, -0.69289057,\n",
       "        -0.81134119, -0.21103473, -0.95646168,  1.        ]])"
      ]
     },
     "execution_count": 19,
     "metadata": {},
     "output_type": "execute_result"
    }
   ],
   "source": [
    " next_batch(training_data, batch_size=5, batch_no=1)"
   ]
  },
  {
   "cell_type": "code",
   "execution_count": 26,
   "metadata": {},
   "outputs": [
    {
     "data": {
      "text/plain": [
       "((614, 8), (614,))"
      ]
     },
     "execution_count": 26,
     "metadata": {},
     "output_type": "execute_result"
    }
   ],
   "source": [
    "Xtr, Ytr, Xte, Yte = training_data[:, :-1], training_data[:, -1], test_data[:, :-1], test_data[:, -1]\n",
    "Xtr.shape, Ytr.shape"
   ]
  },
  {
   "cell_type": "code",
   "execution_count": 35,
   "metadata": {},
   "outputs": [
    {
     "name": "stdout",
     "output_type": "stream",
     "text": [
      "Acheived accuracy of 72.72727272727273 %\n"
     ]
    }
   ],
   "source": [
    "knn = KNeighborsClassifier(n_neighbors=5)\n",
    "\n",
    "knn.fit(Xtr, Ytr)\n",
    "\n",
    "pred = knn.predict(Xte)\n",
    "\n",
    "accuracy = np.mean(pred == Yte, axis=0) * 100\n",
    "\n",
    "print('Acheived accuracy of {0} %'.format(accuracy))"
   ]
  },
  {
   "cell_type": "code",
   "execution_count": null,
   "metadata": {},
   "outputs": [],
   "source": []
  }
 ],
 "metadata": {
  "kernelspec": {
   "display_name": "Python 3",
   "language": "python",
   "name": "python3"
  },
  "language_info": {
   "codemirror_mode": {
    "name": "ipython",
    "version": 3
   },
   "file_extension": ".py",
   "mimetype": "text/x-python",
   "name": "python",
   "nbconvert_exporter": "python",
   "pygments_lexer": "ipython3",
   "version": "3.6.4"
  }
 },
 "nbformat": 4,
 "nbformat_minor": 2
}
